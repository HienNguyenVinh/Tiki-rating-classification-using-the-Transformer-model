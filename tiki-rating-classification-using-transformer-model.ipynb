{
 "cells": [
  {
   "cell_type": "code",
   "execution_count": 1,
   "id": "8f5bd62f",
   "metadata": {
    "execution": {
     "iopub.execute_input": "2024-04-23T12:55:19.475971Z",
     "iopub.status.busy": "2024-04-23T12:55:19.475527Z",
     "iopub.status.idle": "2024-04-23T12:55:35.319257Z",
     "shell.execute_reply": "2024-04-23T12:55:35.317891Z"
    },
    "papermill": {
     "duration": 15.857746,
     "end_time": "2024-04-23T12:55:35.322272",
     "exception": false,
     "start_time": "2024-04-23T12:55:19.464526",
     "status": "completed"
    },
    "tags": []
   },
   "outputs": [
    {
     "name": "stderr",
     "output_type": "stream",
     "text": [
      "2024-04-23 12:55:23.010237: E external/local_xla/xla/stream_executor/cuda/cuda_dnn.cc:9261] Unable to register cuDNN factory: Attempting to register factory for plugin cuDNN when one has already been registered\n",
      "2024-04-23 12:55:23.010378: E external/local_xla/xla/stream_executor/cuda/cuda_fft.cc:607] Unable to register cuFFT factory: Attempting to register factory for plugin cuFFT when one has already been registered\n",
      "2024-04-23 12:55:23.208253: E external/local_xla/xla/stream_executor/cuda/cuda_blas.cc:1515] Unable to register cuBLAS factory: Attempting to register factory for plugin cuBLAS when one has already been registered\n"
     ]
    }
   ],
   "source": [
    "import warnings \n",
    "warnings.filterwarnings('ignore')\n",
    "\n",
    "import pandas as pd\n",
    "import numpy as np\n",
    "import keras\n",
    "import tensorflow as tf"
   ]
  },
  {
   "cell_type": "code",
   "execution_count": 2,
   "id": "877466e3",
   "metadata": {
    "execution": {
     "iopub.execute_input": "2024-04-23T12:55:35.342938Z",
     "iopub.status.busy": "2024-04-23T12:55:35.342239Z",
     "iopub.status.idle": "2024-04-23T12:55:35.350987Z",
     "shell.execute_reply": "2024-04-23T12:55:35.349731Z"
    },
    "papermill": {
     "duration": 0.022926,
     "end_time": "2024-04-23T12:55:35.354436",
     "exception": false,
     "start_time": "2024-04-23T12:55:35.331510",
     "status": "completed"
    },
    "tags": []
   },
   "outputs": [
    {
     "name": "stdout",
     "output_type": "stream",
     "text": [
      "GPU is not available\n",
      "TensorFlow version: 2.15.0\n"
     ]
    }
   ],
   "source": [
    "print(\"GPU is\", \"available\" if tf.config.experimental.list_physical_devices(\"GPU\") else \"not available\")\n",
    "print(\"TensorFlow version:\", tf.__version__)"
   ]
  },
  {
   "cell_type": "code",
   "execution_count": 3,
   "id": "c1e29f20",
   "metadata": {
    "execution": {
     "iopub.execute_input": "2024-04-23T12:55:35.374266Z",
     "iopub.status.busy": "2024-04-23T12:55:35.373812Z",
     "iopub.status.idle": "2024-04-23T12:55:36.566270Z",
     "shell.execute_reply": "2024-04-23T12:55:36.564938Z"
    },
    "papermill": {
     "duration": 1.205581,
     "end_time": "2024-04-23T12:55:36.569015",
     "exception": false,
     "start_time": "2024-04-23T12:55:35.363434",
     "status": "completed"
    },
    "tags": []
   },
   "outputs": [
    {
     "data": {
      "text/html": [
       "<div>\n",
       "<style scoped>\n",
       "    .dataframe tbody tr th:only-of-type {\n",
       "        vertical-align: middle;\n",
       "    }\n",
       "\n",
       "    .dataframe tbody tr th {\n",
       "        vertical-align: top;\n",
       "    }\n",
       "\n",
       "    .dataframe thead th {\n",
       "        text-align: right;\n",
       "    }\n",
       "</style>\n",
       "<table border=\"1\" class=\"dataframe\">\n",
       "  <thead>\n",
       "    <tr style=\"text-align: right;\">\n",
       "      <th></th>\n",
       "      <th>product_id</th>\n",
       "      <th>comment_id</th>\n",
       "      <th>title</th>\n",
       "      <th>thank_count</th>\n",
       "      <th>customer_id</th>\n",
       "      <th>rating</th>\n",
       "      <th>content</th>\n",
       "    </tr>\n",
       "  </thead>\n",
       "  <tbody>\n",
       "    <tr>\n",
       "      <th>59924</th>\n",
       "      <td>48481763</td>\n",
       "      <td>16888939</td>\n",
       "      <td>Cực kì hài lòng</td>\n",
       "      <td>1</td>\n",
       "      <td>7193137</td>\n",
       "      <td>5</td>\n",
       "      <td>sách hay. thiên về triết học. đọc hơi khó hiểu...</td>\n",
       "    </tr>\n",
       "    <tr>\n",
       "      <th>49450</th>\n",
       "      <td>81437585</td>\n",
       "      <td>14431736</td>\n",
       "      <td>Cực kì hài lòng</td>\n",
       "      <td>0</td>\n",
       "      <td>19554856</td>\n",
       "      <td>5</td>\n",
       "      <td>Sách tốt lắm nha. Bìa đẹp ghê luôn á✨☄️</td>\n",
       "    </tr>\n",
       "    <tr>\n",
       "      <th>47670</th>\n",
       "      <td>202650475</td>\n",
       "      <td>18300040</td>\n",
       "      <td>Cực kì hài lòng</td>\n",
       "      <td>0</td>\n",
       "      <td>7915390</td>\n",
       "      <td>5</td>\n",
       "      <td>NaN</td>\n",
       "    </tr>\n",
       "    <tr>\n",
       "      <th>8087</th>\n",
       "      <td>120219394</td>\n",
       "      <td>16081839</td>\n",
       "      <td>Cực kì hài lòng</td>\n",
       "      <td>0</td>\n",
       "      <td>10327781</td>\n",
       "      <td>5</td>\n",
       "      <td>Sách in chất lượng tốt. Vận chuyển nhanh.</td>\n",
       "    </tr>\n",
       "    <tr>\n",
       "      <th>21385</th>\n",
       "      <td>197629358</td>\n",
       "      <td>18370631</td>\n",
       "      <td>Hài lòng</td>\n",
       "      <td>0</td>\n",
       "      <td>28335429</td>\n",
       "      <td>4</td>\n",
       "      <td>NaN</td>\n",
       "    </tr>\n",
       "  </tbody>\n",
       "</table>\n",
       "</div>"
      ],
      "text/plain": [
       "       product_id  comment_id            title  thank_count  customer_id  \\\n",
       "59924    48481763    16888939  Cực kì hài lòng            1      7193137   \n",
       "49450    81437585    14431736  Cực kì hài lòng            0     19554856   \n",
       "47670   202650475    18300040  Cực kì hài lòng            0      7915390   \n",
       "8087    120219394    16081839  Cực kì hài lòng            0     10327781   \n",
       "21385   197629358    18370631         Hài lòng            0     28335429   \n",
       "\n",
       "       rating                                            content  \n",
       "59924       5  sách hay. thiên về triết học. đọc hơi khó hiểu...  \n",
       "49450       5            Sách tốt lắm nha. Bìa đẹp ghê luôn á✨☄️  \n",
       "47670       5                                                NaN  \n",
       "8087        5          Sách in chất lượng tốt. Vận chuyển nhanh.  \n",
       "21385       4                                                NaN  "
      ]
     },
     "execution_count": 3,
     "metadata": {},
     "output_type": "execute_result"
    }
   ],
   "source": [
    "df = pd.read_csv('/kaggle/input/tiki-books-dataset/comments.csv')\n",
    "df.sample(5)"
   ]
  },
  {
   "cell_type": "code",
   "execution_count": 4,
   "id": "55edd8e3",
   "metadata": {
    "execution": {
     "iopub.execute_input": "2024-04-23T12:55:36.591220Z",
     "iopub.status.busy": "2024-04-23T12:55:36.590427Z",
     "iopub.status.idle": "2024-04-23T12:55:36.615766Z",
     "shell.execute_reply": "2024-04-23T12:55:36.614558Z"
    },
    "papermill": {
     "duration": 0.039063,
     "end_time": "2024-04-23T12:55:36.618413",
     "exception": false,
     "start_time": "2024-04-23T12:55:36.579350",
     "status": "completed"
    },
    "tags": []
   },
   "outputs": [
    {
     "name": "stdout",
     "output_type": "stream",
     "text": [
      "141281\n"
     ]
    },
    {
     "data": {
      "text/html": [
       "<div>\n",
       "<style scoped>\n",
       "    .dataframe tbody tr th:only-of-type {\n",
       "        vertical-align: middle;\n",
       "    }\n",
       "\n",
       "    .dataframe tbody tr th {\n",
       "        vertical-align: top;\n",
       "    }\n",
       "\n",
       "    .dataframe thead th {\n",
       "        text-align: right;\n",
       "    }\n",
       "</style>\n",
       "<table border=\"1\" class=\"dataframe\">\n",
       "  <thead>\n",
       "    <tr style=\"text-align: right;\">\n",
       "      <th></th>\n",
       "      <th>rating</th>\n",
       "      <th>content</th>\n",
       "    </tr>\n",
       "  </thead>\n",
       "  <tbody>\n",
       "    <tr>\n",
       "      <th>70131</th>\n",
       "      <td>5</td>\n",
       "      <td>Tốt</td>\n",
       "    </tr>\n",
       "    <tr>\n",
       "      <th>65849</th>\n",
       "      <td>4</td>\n",
       "      <td>Sách đóng gói bao bì rất chuẩn và đẹp. Tuy chỉ...</td>\n",
       "    </tr>\n",
       "    <tr>\n",
       "      <th>81691</th>\n",
       "      <td>5</td>\n",
       "      <td>sách rất đẹp, giấy dày, màu đẹp.  cuốn sách ch...</td>\n",
       "    </tr>\n",
       "    <tr>\n",
       "      <th>44756</th>\n",
       "      <td>3</td>\n",
       "      <td>Chất lượng giấy tập này cầm khá tệ và không cò...</td>\n",
       "    </tr>\n",
       "    <tr>\n",
       "      <th>38637</th>\n",
       "      <td>5</td>\n",
       "      <td>Sách đẹp lắm ạ, con nguyên seal luôn ☺️☺️☺️☺️\\...</td>\n",
       "    </tr>\n",
       "  </tbody>\n",
       "</table>\n",
       "</div>"
      ],
      "text/plain": [
       "       rating                                            content\n",
       "70131       5                                                Tốt\n",
       "65849       4  Sách đóng gói bao bì rất chuẩn và đẹp. Tuy chỉ...\n",
       "81691       5  sách rất đẹp, giấy dày, màu đẹp.  cuốn sách ch...\n",
       "44756       3  Chất lượng giấy tập này cầm khá tệ và không cò...\n",
       "38637       5  Sách đẹp lắm ạ, con nguyên seal luôn ☺️☺️☺️☺️\\..."
      ]
     },
     "execution_count": 4,
     "metadata": {},
     "output_type": "execute_result"
    }
   ],
   "source": [
    "df = df[['rating', 'content']]\n",
    "\n",
    "print(len(df))\n",
    "df.sample(5)"
   ]
  },
  {
   "cell_type": "code",
   "execution_count": 5,
   "id": "accd0f75",
   "metadata": {
    "execution": {
     "iopub.execute_input": "2024-04-23T12:55:36.641536Z",
     "iopub.status.busy": "2024-04-23T12:55:36.640734Z",
     "iopub.status.idle": "2024-04-23T12:55:36.668193Z",
     "shell.execute_reply": "2024-04-23T12:55:36.666918Z"
    },
    "papermill": {
     "duration": 0.042057,
     "end_time": "2024-04-23T12:55:36.670938",
     "exception": false,
     "start_time": "2024-04-23T12:55:36.628881",
     "status": "completed"
    },
    "tags": []
   },
   "outputs": [
    {
     "data": {
      "text/plain": [
       "rating         0\n",
       "content    38018\n",
       "dtype: int64"
      ]
     },
     "execution_count": 5,
     "metadata": {},
     "output_type": "execute_result"
    }
   ],
   "source": [
    "df.isna().sum()"
   ]
  },
  {
   "cell_type": "code",
   "execution_count": 6,
   "id": "c6aa66d3",
   "metadata": {
    "execution": {
     "iopub.execute_input": "2024-04-23T12:55:36.692504Z",
     "iopub.status.busy": "2024-04-23T12:55:36.692121Z",
     "iopub.status.idle": "2024-04-23T12:55:36.725054Z",
     "shell.execute_reply": "2024-04-23T12:55:36.723798Z"
    },
    "papermill": {
     "duration": 0.046723,
     "end_time": "2024-04-23T12:55:36.727740",
     "exception": false,
     "start_time": "2024-04-23T12:55:36.681017",
     "status": "completed"
    },
    "tags": []
   },
   "outputs": [
    {
     "data": {
      "text/plain": [
       "103263"
      ]
     },
     "execution_count": 6,
     "metadata": {},
     "output_type": "execute_result"
    }
   ],
   "source": [
    "df.dropna(inplace=True)\n",
    "len(df)"
   ]
  },
  {
   "cell_type": "code",
   "execution_count": 7,
   "id": "4289af93",
   "metadata": {
    "execution": {
     "iopub.execute_input": "2024-04-23T12:55:36.750190Z",
     "iopub.status.busy": "2024-04-23T12:55:36.749593Z",
     "iopub.status.idle": "2024-04-23T12:55:38.417422Z",
     "shell.execute_reply": "2024-04-23T12:55:38.416107Z"
    },
    "papermill": {
     "duration": 1.682165,
     "end_time": "2024-04-23T12:55:38.420237",
     "exception": false,
     "start_time": "2024-04-23T12:55:36.738072",
     "status": "completed"
    },
    "tags": []
   },
   "outputs": [
    {
     "data": {
      "text/plain": [
       "<Axes: xlabel='rating', ylabel='count'>"
      ]
     },
     "execution_count": 7,
     "metadata": {},
     "output_type": "execute_result"
    },
    {
     "data": {
      "image/png": "[encoded data removed]",
      "text/plain": [
       "<Figure size 640x480 with 1 Axes>"
      ]
     },
     "metadata": {},
     "output_type": "display_data"
    }
   ],
   "source": [
    "import seaborn as sns\n",
    "\n",
    "sns.countplot(data=df, x='rating')"
   ]
  },
  {
   "cell_type": "code",
   "execution_count": 8,
   "id": "862f70df",
   "metadata": {
    "execution": {
     "iopub.execute_input": "2024-04-23T12:55:38.443740Z",
     "iopub.status.busy": "2024-04-23T12:55:38.443365Z",
     "iopub.status.idle": "2024-04-23T12:55:38.456687Z",
     "shell.execute_reply": "2024-04-23T12:55:38.455664Z"
    },
    "papermill": {
     "duration": 0.027671,
     "end_time": "2024-04-23T12:55:38.459281",
     "exception": false,
     "start_time": "2024-04-23T12:55:38.431610",
     "status": "completed"
    },
    "tags": []
   },
   "outputs": [
    {
     "name": "stdout",
     "output_type": "stream",
     "text": [
      "Có những người bước đến, họ lấp đầy hạnh phúc vào từng vết nứt trong tim, khiến chúng được an ủi và chữa lành. Nhưng rồi họ lại ra đi, làm tan vỡ trái tim người ở lại….\n",
      "Câu chuyện bắt đầu bằng sự vui vẻ, nghịch ngợm của một cậu bé mang tên Zezé và kết thúc là một nỗi đau tột cùng khi mất đi hai người bạn quý giá nhất đời mình.\n",
      "Khi đọc cuốn tiểu thuyết này, các bạn hẳn sẽ nhiều lần đau xót vì thương cảm cho cậu bé chỉ mới 5 tuổi với một tuổi thơ nhiều rạn vỡ. Nhưng các bạn cũng sẽ mỉm cười và cảm thấy yêu thương sự sống từ trong sâu thẳm tim mình. Bởi trong suốt cuốn tiểu thuyết, người với người đối xử với nhau vẫn rất đỗi dịu dàng, yêu thương và trìu mến. Cho đến khi khép lại cuốn sách, thì trái tim chúng ta lại thổn thức với một nỗi buồn vương vấn, buồn cho sự mất mát từ những yêu thương và buồn cho sự trưởng thành từ những nỗi đau, sự trưởng thành quá sớm mà không ai mong muốn…\n",
      "Một cuốn tự truyện đầy cảm động, tuy đau đớn nhưng vẫn ngập tràn tình yêu thương!!!\n",
      "Cảm ơn Tiki 🧡\n"
     ]
    }
   ],
   "source": [
    "X = df.content.copy()\n",
    "y = df.rating.copy()\n",
    "\n",
    "print(X[0])"
   ]
  },
  {
   "cell_type": "code",
   "execution_count": 9,
   "id": "83ac4d4d",
   "metadata": {
    "execution": {
     "iopub.execute_input": "2024-04-23T12:55:38.482253Z",
     "iopub.status.busy": "2024-04-23T12:55:38.481888Z",
     "iopub.status.idle": "2024-04-23T12:55:47.459720Z",
     "shell.execute_reply": "2024-04-23T12:55:47.458520Z"
    },
    "papermill": {
     "duration": 8.992504,
     "end_time": "2024-04-23T12:55:47.462551",
     "exception": false,
     "start_time": "2024-04-23T12:55:38.470047",
     "status": "completed"
    },
    "tags": []
   },
   "outputs": [],
   "source": [
    "import re\n",
    "\n",
    "def preprocessing(text):\n",
    "    text = text.strip().lower()\n",
    "    text = re.sub(r'\\n', ' ', text)\n",
    "    text = re.sub(r\"^([^ \\w])(?!\\s)\", r\"\\1 \", text)\n",
    "    text = re.sub(r\"(\\s[^ \\w])(?!\\s)\", r\"\\1 \", text)\n",
    "    text = re.sub(r\"(?!\\s)([^ \\w])$\", r\" \\1\", text)\n",
    "    text = re.sub(r\"(?!\\s)([^ \\w]\\s)\", r\" \\1\", text)\n",
    "    \n",
    "    return text\n",
    "\n",
    "preprocessed_X = []\n",
    "\n",
    "for text in X:\n",
    "    preprocessed_text = preprocessing(text)\n",
    "    preprocessed_X.append(preprocessed_text)"
   ]
  },
  {
   "cell_type": "code",
   "execution_count": 10,
   "id": "b413c0bc",
   "metadata": {
    "execution": {
     "iopub.execute_input": "2024-04-23T12:55:47.486116Z",
     "iopub.status.busy": "2024-04-23T12:55:47.485730Z",
     "iopub.status.idle": "2024-04-23T12:55:47.491876Z",
     "shell.execute_reply": "2024-04-23T12:55:47.490830Z"
    },
    "papermill": {
     "duration": 0.021473,
     "end_time": "2024-04-23T12:55:47.494839",
     "exception": false,
     "start_time": "2024-04-23T12:55:47.473366",
     "status": "completed"
    },
    "tags": []
   },
   "outputs": [
    {
     "data": {
      "text/plain": [
       "'có những người bước đến , họ lấp đầy hạnh phúc vào từng vết nứt trong tim , khiến chúng được an ủi và chữa lành . nhưng rồi họ lại ra đi , làm tan vỡ trái tim người ở lại… . câu chuyện bắt đầu bằng sự vui vẻ , nghịch ngợm của một cậu bé mang tên zezé và kết thúc là một nỗi đau tột cùng khi mất đi hai người bạn quý giá nhất đời mình . khi đọc cuốn tiểu thuyết này , các bạn hẳn sẽ nhiều lần đau xót vì thương cảm cho cậu bé chỉ mới 5 tuổi với một tuổi thơ nhiều rạn vỡ . nhưng các bạn cũng sẽ mỉm cười và cảm thấy yêu thương sự sống từ trong sâu thẳm tim mình . bởi trong suốt cuốn tiểu thuyết , người với người đối xử với nhau vẫn rất đỗi dịu dàng , yêu thương và trìu mến . cho đến khi khép lại cuốn sách , thì trái tim chúng ta lại thổn thức với một nỗi buồn vương vấn , buồn cho sự mất mát từ những yêu thương và buồn cho sự trưởng thành từ những nỗi đau , sự trưởng thành quá sớm mà không ai mong muốn … một cuốn tự truyện đầy cảm động , tuy đau đớn nhưng vẫn ngập tràn tình yêu thương!! ! cảm ơn tiki  🧡 '"
      ]
     },
     "execution_count": 10,
     "metadata": {},
     "output_type": "execute_result"
    }
   ],
   "source": [
    "preprocessed_X[0]"
   ]
  },
  {
   "cell_type": "code",
   "execution_count": 11,
   "id": "f06cf09c",
   "metadata": {
    "execution": {
     "iopub.execute_input": "2024-04-23T12:55:47.518281Z",
     "iopub.status.busy": "2024-04-23T12:55:47.517917Z",
     "iopub.status.idle": "2024-04-23T12:55:47.832134Z",
     "shell.execute_reply": "2024-04-23T12:55:47.830812Z"
    },
    "papermill": {
     "duration": 0.329156,
     "end_time": "2024-04-23T12:55:47.834843",
     "exception": false,
     "start_time": "2024-04-23T12:55:47.505687",
     "status": "completed"
    },
    "tags": []
   },
   "outputs": [
    {
     "name": "stdout",
     "output_type": "stream",
     "text": [
      "92936\n",
      "10327\n"
     ]
    }
   ],
   "source": [
    "from sklearn.model_selection import train_test_split\n",
    "\n",
    "X_train, X_test, y_train, y_test = train_test_split(preprocessed_X, y, test_size=0.1, shuffle=True)\n",
    "\n",
    "print(len(X_train))\n",
    "print(len(X_test))"
   ]
  },
  {
   "cell_type": "code",
   "execution_count": 12,
   "id": "48671d01",
   "metadata": {
    "execution": {
     "iopub.execute_input": "2024-04-23T12:55:47.858640Z",
     "iopub.status.busy": "2024-04-23T12:55:47.858258Z",
     "iopub.status.idle": "2024-04-23T12:55:47.865601Z",
     "shell.execute_reply": "2024-04-23T12:55:47.864359Z"
    },
    "papermill": {
     "duration": 0.022466,
     "end_time": "2024-04-23T12:55:47.868212",
     "exception": false,
     "start_time": "2024-04-23T12:55:47.845746",
     "status": "completed"
    },
    "tags": []
   },
   "outputs": [],
   "source": [
    "y_train = np.array(y_train) - 1"
   ]
  },
  {
   "cell_type": "code",
   "execution_count": 13,
   "id": "329c5d98",
   "metadata": {
    "execution": {
     "iopub.execute_input": "2024-04-23T12:55:47.892504Z",
     "iopub.status.busy": "2024-04-23T12:55:47.891823Z",
     "iopub.status.idle": "2024-04-23T12:55:52.324175Z",
     "shell.execute_reply": "2024-04-23T12:55:52.323198Z"
    },
    "papermill": {
     "duration": 4.447321,
     "end_time": "2024-04-23T12:55:52.326768",
     "exception": false,
     "start_time": "2024-04-23T12:55:47.879447",
     "status": "completed"
    },
    "tags": []
   },
   "outputs": [
    {
     "name": "stdout",
     "output_type": "stream",
     "text": [
      "tf.Tensor(\n",
      "[1150  264 1267  253 2182  217  500   19   77  822    2  557   98    3\n",
      "    3    4   23    2  157    6  880 2306   16    6  584  312  667    4\n",
      "   10   57  165  427  106  140   25    2   61    9   30   29   16  185\n",
      "  345   62   15   66  131   10    4  388  234    2  115   27    0    0\n",
      "    0    0    0    0    0    0    0    0    0    0    0    0    0    0\n",
      "    0    0    0    0    0    0    0    0    0    0    0    0    0    0\n",
      "    0    0    0    0    0    0    0    0    0    0    0    0    0    0\n",
      "    0    0    0    0    0    0    0    0    0    0    0    0    0    0\n",
      "    0    0    0    0    0    0    0    0    0    0    0    0    0    0\n",
      "    0    0    0    0    0    0    0    0    0    0    0    0    0    0\n",
      "    0    0    0    0    0    0    0    0    0    0    0    0    0    0\n",
      "    0    0    0    0    0    0    0    0    0    0    0    0    0    0\n",
      "    0    0    0    0    0    0    0    0    0    0    0    0    0    0\n",
      "    0    0    0    0    0    0    0    0    0    0    0    0    0    0\n",
      "    0    0    0    0], shape=(200,), dtype=int64)\n"
     ]
    }
   ],
   "source": [
    "from keras.layers import TextVectorization\n",
    "\n",
    "vocab_size = 10000\n",
    "max_len = 200\n",
    "\n",
    "vectorizer = TextVectorization(\n",
    "    max_tokens = vocab_size,\n",
    "    standardize=None,\n",
    "    split='whitespace',\n",
    "    output_mode='int',\n",
    "    output_sequence_length = max_len\n",
    ")\n",
    "\n",
    "vectorizer.adapt(X_train)\n",
    "\n",
    "X_train_vectors = vectorizer(X_train)\n",
    "X_test_vectors = vectorizer(X_test)\n",
    "\n",
    "print(X_train_vectors[0])"
   ]
  },
  {
   "cell_type": "code",
   "execution_count": 14,
   "id": "cf4f0028",
   "metadata": {
    "execution": {
     "iopub.execute_input": "2024-04-23T12:55:52.351790Z",
     "iopub.status.busy": "2024-04-23T12:55:52.351179Z",
     "iopub.status.idle": "2024-04-23T12:55:52.358055Z",
     "shell.execute_reply": "2024-04-23T12:55:52.357222Z"
    },
    "papermill": {
     "duration": 0.022071,
     "end_time": "2024-04-23T12:55:52.360284",
     "exception": false,
     "start_time": "2024-04-23T12:55:52.338213",
     "status": "completed"
    },
    "tags": []
   },
   "outputs": [],
   "source": [
    "import numpy as np\n",
    "\n",
    "def pos_enc_matrix(max_len, embed_dim, n=10000):\n",
    "    assert embed_dim % 2 == 0\n",
    "    \n",
    "    d2 = embed_dim / 2\n",
    "    P = np.zeros((max_len, embed_dim))\n",
    "    k = np.arange(max_len).reshape(-1, 1)\n",
    "    i = np.arange(d2).reshape(1, -1)\n",
    "    denom = np.power(n, -i/d2)\n",
    "    args = k * denom\n",
    "    \n",
    "    P[:, ::2] = np.sin(args)\n",
    "    P[:, 1::2] = np.cos(args)\n",
    "    \n",
    "    return P"
   ]
  },
  {
   "cell_type": "code",
   "execution_count": 15,
   "id": "b61d8aa1",
   "metadata": {
    "execution": {
     "iopub.execute_input": "2024-04-23T12:55:52.385535Z",
     "iopub.status.busy": "2024-04-23T12:55:52.384820Z",
     "iopub.status.idle": "2024-04-23T12:55:52.392691Z",
     "shell.execute_reply": "2024-04-23T12:55:52.391387Z"
    },
    "papermill": {
     "duration": 0.02315,
     "end_time": "2024-04-23T12:55:52.395213",
     "exception": false,
     "start_time": "2024-04-23T12:55:52.372063",
     "status": "completed"
    },
    "tags": []
   },
   "outputs": [],
   "source": [
    "class PositionalEmbedding(keras.layers.Layer):\n",
    "    def __init__(self, max_len, vocab_size, embed_dim, **kwargs):\n",
    "        super().__init__(**kwargs)\n",
    "        \n",
    "        self.token_embeddings = keras.layers.Embedding(input_dim=vocab_size, output_dim=embed_dim)\n",
    "        matrix = pos_enc_matrix(max_len, embed_dim)\n",
    "        self.position_embeddings = tf.constant(matrix, dtype='float32')\n",
    "        \n",
    "        self.max_len = max_len\n",
    "        self.vocab_size = vocab_size\n",
    "        self.embed_dim = embed_dim\n",
    "        \n",
    "    def call(self, inputs):\n",
    "        embedded_tokens = self.token_embeddings(inputs)\n",
    "        \n",
    "        return embedded_tokens + self.position_embeddings"
   ]
  },
  {
   "cell_type": "code",
   "execution_count": 16,
   "id": "a361f15e",
   "metadata": {
    "execution": {
     "iopub.execute_input": "2024-04-23T12:55:52.420143Z",
     "iopub.status.busy": "2024-04-23T12:55:52.419057Z",
     "iopub.status.idle": "2024-04-23T12:55:52.512830Z",
     "shell.execute_reply": "2024-04-23T12:55:52.511604Z"
    },
    "papermill": {
     "duration": 0.109636,
     "end_time": "2024-04-23T12:55:52.516035",
     "exception": false,
     "start_time": "2024-04-23T12:55:52.406399",
     "status": "completed"
    },
    "tags": []
   },
   "outputs": [
    {
     "name": "stdout",
     "output_type": "stream",
     "text": [
      "(200, 512)\n",
      "tf.Tensor(\n",
      "[[ 0.03507402  1.0135988  -0.04236159 ...  1.0449919   0.03965969\n",
      "   0.95972896]\n",
      " [ 0.87410444  0.55817306  0.8536073  ...  0.99103016  0.00662533\n",
      "   0.9807226 ]\n",
      " [ 0.8810433  -0.4548873   0.920034   ...  1.0409989   0.02229511\n",
      "   1.007213  ]\n",
      " ...\n",
      " [ 0.75915474 -0.5571016   1.0258163  ...  1.0384556   0.0669505\n",
      "   0.9956307 ]\n",
      " [-0.11622975 -0.9483784   0.6187027  ...  1.0384533   0.06705414\n",
      "   0.99562854]\n",
      " [-0.91845    -0.42317545 -0.2983171  ...  1.0384511   0.06715778\n",
      "   0.9956264 ]], shape=(200, 512), dtype=float32)\n"
     ]
    }
   ],
   "source": [
    "vocab_size = 10000\n",
    "max_len = 200\n",
    "embed_dim = 512\n",
    "\n",
    "embed_en = PositionalEmbedding(max_len, vocab_size, embed_dim)\n",
    "\n",
    "embed_text = embed_en(X_train_vectors[0])\n",
    "print(embed_text.shape)\n",
    "print(embed_text)"
   ]
  },
  {
   "cell_type": "code",
   "execution_count": 17,
   "id": "d77c9ffd",
   "metadata": {
    "execution": {
     "iopub.execute_input": "2024-04-23T12:55:52.543427Z",
     "iopub.status.busy": "2024-04-23T12:55:52.541447Z",
     "iopub.status.idle": "2024-04-23T12:55:52.549784Z",
     "shell.execute_reply": "2024-04-23T12:55:52.548762Z"
    },
    "papermill": {
     "duration": 0.024146,
     "end_time": "2024-04-23T12:55:52.552281",
     "exception": false,
     "start_time": "2024-04-23T12:55:52.528135",
     "status": "completed"
    },
    "tags": []
   },
   "outputs": [],
   "source": [
    "def scaled_dot_product_attention(q, k, v):\n",
    "    d_k = tf.cast(tf.shape(k)[-1], tf.float32)\n",
    "    scores = tf.matmul(q, k, transpose_b=True)\n",
    "    scaled_scores = scores / tf.math.sqrt(d_k)\n",
    "    weights = tf.nn.softmax(scaled_scores, axis=-1)\n",
    "    output = tf.matmul(weights, v)\n",
    "    \n",
    "    return output"
   ]
  },
  {
   "cell_type": "code",
   "execution_count": 18,
   "id": "b40614a4",
   "metadata": {
    "execution": {
     "iopub.execute_input": "2024-04-23T12:55:52.577260Z",
     "iopub.status.busy": "2024-04-23T12:55:52.576805Z",
     "iopub.status.idle": "2024-04-23T12:55:52.589845Z",
     "shell.execute_reply": "2024-04-23T12:55:52.588560Z"
    },
    "papermill": {
     "duration": 0.028447,
     "end_time": "2024-04-23T12:55:52.592214",
     "exception": false,
     "start_time": "2024-04-23T12:55:52.563767",
     "status": "completed"
    },
    "tags": []
   },
   "outputs": [],
   "source": [
    "class MultiHeadAttention(keras.layers.Layer):\n",
    "    def __init__(self, embed_dim, num_heads, **kwargs):\n",
    "        super().__init__(**kwargs)\n",
    "        self.embed_dim = embed_dim\n",
    "        self.num_heads = num_heads\n",
    "        \n",
    "        self.q_linear = keras.layers.Dense(embed_dim)\n",
    "        self.k_linear = keras.layers.Dense(embed_dim)\n",
    "        self.v_linear = keras.layers.Dense(embed_dim)\n",
    "        self.concat_linear = keras.layers.Dense(embed_dim)\n",
    "        \n",
    "    def split_heads(self, x, batch_size):\n",
    "        x = tf.reshape(x, shape=(batch_size, -1, self.num_heads, \n",
    "                                self.embed_dim // self.num_heads))\n",
    "        \n",
    "        return tf.transpose(x, perm=[0, 2, 1, 3])\n",
    "    \n",
    "    def concat_heads(self, x, batch_size):\n",
    "        x = tf.transpose(x, perm=[0, 1, 2, 3])\n",
    "        \n",
    "        return tf.reshape(x, (batch_size, -1, self.embed_dim))\n",
    "    \n",
    "    def call(self, q, k, v):\n",
    "        batch_size = tf.shape(k)[0]\n",
    "        q = self.q_linear(q)\n",
    "        k = self.q_linear(k)\n",
    "        v = self.q_linear(v)\n",
    "        q = self.split_heads(q, batch_size)\n",
    "        k = self.split_heads(k, batch_size)\n",
    "        v = self.split_heads(v, batch_size)\n",
    "        \n",
    "        attention = scaled_dot_product_attention(q, k, v)\n",
    "        concat = self.concat_heads(attention, batch_size)\n",
    "        concat = self.concat_linear(concat)\n",
    "        \n",
    "        return concat"
   ]
  },
  {
   "cell_type": "code",
   "execution_count": 19,
   "id": "9cff104c",
   "metadata": {
    "execution": {
     "iopub.execute_input": "2024-04-23T12:55:52.616368Z",
     "iopub.status.busy": "2024-04-23T12:55:52.615947Z",
     "iopub.status.idle": "2024-04-23T12:55:52.626887Z",
     "shell.execute_reply": "2024-04-23T12:55:52.625641Z"
    },
    "papermill": {
     "duration": 0.026216,
     "end_time": "2024-04-23T12:55:52.629662",
     "exception": false,
     "start_time": "2024-04-23T12:55:52.603446",
     "status": "completed"
    },
    "tags": []
   },
   "outputs": [],
   "source": [
    "class TransformerBlock(keras.layers.Layer):\n",
    "    def __init__(self, embed_dim, num_heads, ff_dim, dropout_rate=0.1):\n",
    "        super().__init__()\n",
    "        self.att = MultiHeadAttention(embed_dim=embed_dim, num_heads=num_heads)\n",
    "        self.feed_forward = keras.Sequential([\n",
    "            keras.layers.Dense(ff_dim, activation='relu'),\n",
    "            keras.layers.Dense(embed_dim)\n",
    "        ])\n",
    "        self.layernorm1 = keras.layers.LayerNormalization(epsilon=1e-6)\n",
    "        self.layernorm2 = keras.layers.LayerNormalization(epsilon=1e-6)\n",
    "        self.dropout1 = keras.layers.Dropout(dropout_rate)\n",
    "        self.dropout2 = keras.layers.Dropout(dropout_rate)\n",
    "        \n",
    "    def call(self, inputs):\n",
    "        x = inputs\n",
    "        attn_output = self.att(q=x, k=x, v=x)\n",
    "        attn_output = self.dropout1(attn_output)\n",
    "        out1 = self.layernorm1(x + attn_output)\n",
    "        ffn_output = self.feed_forward(out1)\n",
    "        ffn_output = self.dropout2(ffn_output)\n",
    "        \n",
    "        return self.layernorm2(out1 + ffn_output)"
   ]
  },
  {
   "cell_type": "code",
   "execution_count": 20,
   "id": "98a8d0a3",
   "metadata": {
    "execution": {
     "iopub.execute_input": "2024-04-23T12:55:52.655240Z",
     "iopub.status.busy": "2024-04-23T12:55:52.654248Z",
     "iopub.status.idle": "2024-04-23T12:55:53.077653Z",
     "shell.execute_reply": "2024-04-23T12:55:53.076374Z"
    },
    "papermill": {
     "duration": 0.439445,
     "end_time": "2024-04-23T12:55:53.080293",
     "exception": false,
     "start_time": "2024-04-23T12:55:52.640848",
     "status": "completed"
    },
    "tags": []
   },
   "outputs": [
    {
     "data": {
      "text/html": [
       "<pre style=\"white-space:pre;overflow-x:auto;line-height:normal;font-family:Menlo,'DejaVu Sans Mono',consolas,'Courier New',monospace\"><span style=\"font-weight: bold\">Model: \"functional_2\"</span>\n",
       "</pre>\n"
      ],
      "text/plain": [
       "\u001b[1mModel: \"functional_2\"\u001b[0m\n"
      ]
     },
     "metadata": {},
     "output_type": "display_data"
    },
    {
     "data": {
      "text/html": [
       "<pre style=\"white-space:pre;overflow-x:auto;line-height:normal;font-family:Menlo,'DejaVu Sans Mono',consolas,'Courier New',monospace\">┏━━━━━━━━━━━━━━━━━━━━━━━━━━━━━━━━━┳━━━━━━━━━━━━━━━━━━━━━━━━┳━━━━━━━━━━━━━━━┓\n",
       "┃<span style=\"font-weight: bold\"> Layer (type)                    </span>┃<span style=\"font-weight: bold\"> Output Shape           </span>┃<span style=\"font-weight: bold\">       Param # </span>┃\n",
       "┡━━━━━━━━━━━━━━━━━━━━━━━━━━━━━━━━━╇━━━━━━━━━━━━━━━━━━━━━━━━╇━━━━━━━━━━━━━━━┩\n",
       "│ input_layer (<span style=\"color: #0087ff; text-decoration-color: #0087ff\">InputLayer</span>)        │ (<span style=\"color: #00d7ff; text-decoration-color: #00d7ff\">None</span>, <span style=\"color: #00af00; text-decoration-color: #00af00\">200</span>)            │             <span style=\"color: #00af00; text-decoration-color: #00af00\">0</span> │\n",
       "├─────────────────────────────────┼────────────────────────┼───────────────┤\n",
       "│ positional_embedding_1          │ (<span style=\"color: #00d7ff; text-decoration-color: #00d7ff\">None</span>, <span style=\"color: #00af00; text-decoration-color: #00af00\">200</span>, <span style=\"color: #00af00; text-decoration-color: #00af00\">64</span>)        │     <span style=\"color: #00af00; text-decoration-color: #00af00\">1,280,000</span> │\n",
       "│ (<span style=\"color: #0087ff; text-decoration-color: #0087ff\">PositionalEmbedding</span>)           │                        │               │\n",
       "├─────────────────────────────────┼────────────────────────┼───────────────┤\n",
       "│ transformer_block               │ (<span style=\"color: #00d7ff; text-decoration-color: #00d7ff\">None</span>, <span style=\"color: #00af00; text-decoration-color: #00af00\">200</span>, <span style=\"color: #00af00; text-decoration-color: #00af00\">64</span>)        │        <span style=\"color: #00af00; text-decoration-color: #00af00\">16,896</span> │\n",
       "│ (<span style=\"color: #0087ff; text-decoration-color: #0087ff\">TransformerBlock</span>)              │                        │               │\n",
       "├─────────────────────────────────┼────────────────────────┼───────────────┤\n",
       "│ global_average_pooling1d        │ (<span style=\"color: #00d7ff; text-decoration-color: #00d7ff\">None</span>, <span style=\"color: #00af00; text-decoration-color: #00af00\">64</span>)             │             <span style=\"color: #00af00; text-decoration-color: #00af00\">0</span> │\n",
       "│ (<span style=\"color: #0087ff; text-decoration-color: #0087ff\">GlobalAveragePooling1D</span>)        │                        │               │\n",
       "├─────────────────────────────────┼────────────────────────┼───────────────┤\n",
       "│ dropout_2 (<span style=\"color: #0087ff; text-decoration-color: #0087ff\">Dropout</span>)             │ (<span style=\"color: #00d7ff; text-decoration-color: #00d7ff\">None</span>, <span style=\"color: #00af00; text-decoration-color: #00af00\">64</span>)             │             <span style=\"color: #00af00; text-decoration-color: #00af00\">0</span> │\n",
       "├─────────────────────────────────┼────────────────────────┼───────────────┤\n",
       "│ dense_6 (<span style=\"color: #0087ff; text-decoration-color: #0087ff\">Dense</span>)                 │ (<span style=\"color: #00d7ff; text-decoration-color: #00d7ff\">None</span>, <span style=\"color: #00af00; text-decoration-color: #00af00\">20</span>)             │         <span style=\"color: #00af00; text-decoration-color: #00af00\">1,300</span> │\n",
       "├─────────────────────────────────┼────────────────────────┼───────────────┤\n",
       "│ dropout_3 (<span style=\"color: #0087ff; text-decoration-color: #0087ff\">Dropout</span>)             │ (<span style=\"color: #00d7ff; text-decoration-color: #00d7ff\">None</span>, <span style=\"color: #00af00; text-decoration-color: #00af00\">20</span>)             │             <span style=\"color: #00af00; text-decoration-color: #00af00\">0</span> │\n",
       "├─────────────────────────────────┼────────────────────────┼───────────────┤\n",
       "│ dense_7 (<span style=\"color: #0087ff; text-decoration-color: #0087ff\">Dense</span>)                 │ (<span style=\"color: #00d7ff; text-decoration-color: #00d7ff\">None</span>, <span style=\"color: #00af00; text-decoration-color: #00af00\">5</span>)              │           <span style=\"color: #00af00; text-decoration-color: #00af00\">105</span> │\n",
       "└─────────────────────────────────┴────────────────────────┴───────────────┘\n",
       "</pre>\n"
      ],
      "text/plain": [
       "┏━━━━━━━━━━━━━━━━━━━━━━━━━━━━━━━━━┳━━━━━━━━━━━━━━━━━━━━━━━━┳━━━━━━━━━━━━━━━┓\n",
       "┃\u001b[1m \u001b[0m\u001b[1mLayer (type)                   \u001b[0m\u001b[1m \u001b[0m┃\u001b[1m \u001b[0m\u001b[1mOutput Shape          \u001b[0m\u001b[1m \u001b[0m┃\u001b[1m \u001b[0m\u001b[1m      Param #\u001b[0m\u001b[1m \u001b[0m┃\n",
       "┡━━━━━━━━━━━━━━━━━━━━━━━━━━━━━━━━━╇━━━━━━━━━━━━━━━━━━━━━━━━╇━━━━━━━━━━━━━━━┩\n",
       "│ input_layer (\u001b[38;5;33mInputLayer\u001b[0m)        │ (\u001b[38;5;45mNone\u001b[0m, \u001b[38;5;34m200\u001b[0m)            │             \u001b[38;5;34m0\u001b[0m │\n",
       "├─────────────────────────────────┼────────────────────────┼───────────────┤\n",
       "│ positional_embedding_1          │ (\u001b[38;5;45mNone\u001b[0m, \u001b[38;5;34m200\u001b[0m, \u001b[38;5;34m64\u001b[0m)        │     \u001b[38;5;34m1,280,000\u001b[0m │\n",
       "│ (\u001b[38;5;33mPositionalEmbedding\u001b[0m)           │                        │               │\n",
       "├─────────────────────────────────┼────────────────────────┼───────────────┤\n",
       "│ transformer_block               │ (\u001b[38;5;45mNone\u001b[0m, \u001b[38;5;34m200\u001b[0m, \u001b[38;5;34m64\u001b[0m)        │        \u001b[38;5;34m16,896\u001b[0m │\n",
       "│ (\u001b[38;5;33mTransformerBlock\u001b[0m)              │                        │               │\n",
       "├─────────────────────────────────┼────────────────────────┼───────────────┤\n",
       "│ global_average_pooling1d        │ (\u001b[38;5;45mNone\u001b[0m, \u001b[38;5;34m64\u001b[0m)             │             \u001b[38;5;34m0\u001b[0m │\n",
       "│ (\u001b[38;5;33mGlobalAveragePooling1D\u001b[0m)        │                        │               │\n",
       "├─────────────────────────────────┼────────────────────────┼───────────────┤\n",
       "│ dropout_2 (\u001b[38;5;33mDropout\u001b[0m)             │ (\u001b[38;5;45mNone\u001b[0m, \u001b[38;5;34m64\u001b[0m)             │             \u001b[38;5;34m0\u001b[0m │\n",
       "├─────────────────────────────────┼────────────────────────┼───────────────┤\n",
       "│ dense_6 (\u001b[38;5;33mDense\u001b[0m)                 │ (\u001b[38;5;45mNone\u001b[0m, \u001b[38;5;34m20\u001b[0m)             │         \u001b[38;5;34m1,300\u001b[0m │\n",
       "├─────────────────────────────────┼────────────────────────┼───────────────┤\n",
       "│ dropout_3 (\u001b[38;5;33mDropout\u001b[0m)             │ (\u001b[38;5;45mNone\u001b[0m, \u001b[38;5;34m20\u001b[0m)             │             \u001b[38;5;34m0\u001b[0m │\n",
       "├─────────────────────────────────┼────────────────────────┼───────────────┤\n",
       "│ dense_7 (\u001b[38;5;33mDense\u001b[0m)                 │ (\u001b[38;5;45mNone\u001b[0m, \u001b[38;5;34m5\u001b[0m)              │           \u001b[38;5;34m105\u001b[0m │\n",
       "└─────────────────────────────────┴────────────────────────┴───────────────┘\n"
      ]
     },
     "metadata": {},
     "output_type": "display_data"
    },
    {
     "data": {
      "text/html": [
       "<pre style=\"white-space:pre;overflow-x:auto;line-height:normal;font-family:Menlo,'DejaVu Sans Mono',consolas,'Courier New',monospace\"><span style=\"font-weight: bold\"> Total params: </span><span style=\"color: #00af00; text-decoration-color: #00af00\">1,298,301</span> (4.95 MB)\n",
       "</pre>\n"
      ],
      "text/plain": [
       "\u001b[1m Total params: \u001b[0m\u001b[38;5;34m1,298,301\u001b[0m (4.95 MB)\n"
      ]
     },
     "metadata": {},
     "output_type": "display_data"
    },
    {
     "data": {
      "text/html": [
       "<pre style=\"white-space:pre;overflow-x:auto;line-height:normal;font-family:Menlo,'DejaVu Sans Mono',consolas,'Courier New',monospace\"><span style=\"font-weight: bold\"> Trainable params: </span><span style=\"color: #00af00; text-decoration-color: #00af00\">1,298,301</span> (4.95 MB)\n",
       "</pre>\n"
      ],
      "text/plain": [
       "\u001b[1m Trainable params: \u001b[0m\u001b[38;5;34m1,298,301\u001b[0m (4.95 MB)\n"
      ]
     },
     "metadata": {},
     "output_type": "display_data"
    },
    {
     "data": {
      "text/html": [
       "<pre style=\"white-space:pre;overflow-x:auto;line-height:normal;font-family:Menlo,'DejaVu Sans Mono',consolas,'Courier New',monospace\"><span style=\"font-weight: bold\"> Non-trainable params: </span><span style=\"color: #00af00; text-decoration-color: #00af00\">0</span> (0.00 B)\n",
       "</pre>\n"
      ],
      "text/plain": [
       "\u001b[1m Non-trainable params: \u001b[0m\u001b[38;5;34m0\u001b[0m (0.00 B)\n"
      ]
     },
     "metadata": {},
     "output_type": "display_data"
    }
   ],
   "source": [
    "embed_dim = 64\n",
    "num_heads = 2\n",
    "ff_dim = 64\n",
    "max_len = 200\n",
    "vocab_size = 20000\n",
    "dropout_rate = 0.1\n",
    "\n",
    "inputs = keras.layers.Input(shape=(max_len, ))\n",
    "embedding_layer = PositionalEmbedding(max_len, vocab_size, embed_dim)\n",
    "x = embedding_layer(inputs)\n",
    "transformer_block = TransformerBlock(embed_dim, num_heads, ff_dim, dropout_rate)\n",
    "x = transformer_block(x)\n",
    "x = keras.layers.GlobalAveragePooling1D()(x)\n",
    "x = keras.layers.Dropout(dropout_rate)(x)\n",
    "x = keras.layers.Dense(20, activation='relu')(x)\n",
    "x = keras.layers.Dropout(dropout_rate)(x)\n",
    "outputs = keras.layers.Dense(5, activation='softmax')(x)\n",
    "\n",
    "model = keras.Model(inputs=inputs, outputs=outputs)\n",
    "\n",
    "model.summary()"
   ]
  },
  {
   "cell_type": "code",
   "execution_count": 21,
   "id": "062b896f",
   "metadata": {
    "execution": {
     "iopub.execute_input": "2024-04-23T12:55:53.107257Z",
     "iopub.status.busy": "2024-04-23T12:55:53.106854Z",
     "iopub.status.idle": "2024-04-23T12:55:53.122842Z",
     "shell.execute_reply": "2024-04-23T12:55:53.121575Z"
    },
    "papermill": {
     "duration": 0.032684,
     "end_time": "2024-04-23T12:55:53.125823",
     "exception": false,
     "start_time": "2024-04-23T12:55:53.093139",
     "status": "completed"
    },
    "tags": []
   },
   "outputs": [],
   "source": [
    "model.compile(optimizer='adam',\n",
    "             loss='sparse_categorical_crossentropy',\n",
    "             metrics=['accuracy'])"
   ]
  },
  {
   "cell_type": "code",
   "execution_count": 22,
   "id": "7d9ca09d",
   "metadata": {
    "execution": {
     "iopub.execute_input": "2024-04-23T12:55:53.152675Z",
     "iopub.status.busy": "2024-04-23T12:55:53.152252Z",
     "iopub.status.idle": "2024-04-23T13:09:02.744387Z",
     "shell.execute_reply": "2024-04-23T13:09:02.743318Z"
    },
    "papermill": {
     "duration": 789.608934,
     "end_time": "2024-04-23T13:09:02.747244",
     "exception": false,
     "start_time": "2024-04-23T12:55:53.138310",
     "status": "completed"
    },
    "tags": []
   },
   "outputs": [
    {
     "name": "stdout",
     "output_type": "stream",
     "text": [
      "Epoch 1/3\n",
      "\u001b[1m2905/2905\u001b[0m \u001b[32m━━━━━━━━━━━━━━━━━━━━\u001b[0m\u001b[37m\u001b[0m \u001b[1m240s\u001b[0m 81ms/step - accuracy: 0.7696 - loss: 0.7620\n",
      "Epoch 2/3\n",
      "\u001b[1m2905/2905\u001b[0m \u001b[32m━━━━━━━━━━━━━━━━━━━━\u001b[0m\u001b[37m\u001b[0m \u001b[1m264s\u001b[0m 82ms/step - accuracy: 0.7938 - loss: 0.5738\n",
      "Epoch 3/3\n",
      "\u001b[1m2905/2905\u001b[0m \u001b[32m━━━━━━━━━━━━━━━━━━━━\u001b[0m\u001b[37m\u001b[0m \u001b[1m258s\u001b[0m 81ms/step - accuracy: 0.8043 - loss: 0.5390\n"
     ]
    }
   ],
   "source": [
    "history = model.fit(X_train_vectors, y_train, \n",
    "                    batch_size=32,\n",
    "                    epochs=3)"
   ]
  },
  {
   "cell_type": "code",
   "execution_count": 23,
   "id": "bf8a4e0b",
   "metadata": {
    "execution": {
     "iopub.execute_input": "2024-04-23T13:09:04.488387Z",
     "iopub.status.busy": "2024-04-23T13:09:04.487089Z",
     "iopub.status.idle": "2024-04-23T13:09:14.766671Z",
     "shell.execute_reply": "2024-04-23T13:09:14.765585Z"
    },
    "papermill": {
     "duration": 11.15668,
     "end_time": "2024-04-23T13:09:14.769600",
     "exception": false,
     "start_time": "2024-04-23T13:09:03.612920",
     "status": "completed"
    },
    "tags": []
   },
   "outputs": [
    {
     "name": "stdout",
     "output_type": "stream",
     "text": [
      "\u001b[1m323/323\u001b[0m \u001b[32m━━━━━━━━━━━━━━━━━━━━\u001b[0m\u001b[37m\u001b[0m \u001b[1m10s\u001b[0m 30ms/step\n"
     ]
    },
    {
     "data": {
      "text/plain": [
       "0.8014912365643458"
      ]
     },
     "execution_count": 23,
     "metadata": {},
     "output_type": "execute_result"
    }
   ],
   "source": [
    "y_test = np.array(y_test) - 1\n",
    "\n",
    "pred = model.predict(X_test_vectors)\n",
    "\n",
    "pred_classes = np.argmax(pred, axis=1)\n",
    "\n",
    "accuracy = np.mean(pred_classes == y_test)\n",
    "\n",
    "accuracy"
   ]
  },
  {
   "cell_type": "code",
   "execution_count": 24,
   "id": "a7c797fc",
   "metadata": {
    "execution": {
     "iopub.execute_input": "2024-04-23T13:09:16.611510Z",
     "iopub.status.busy": "2024-04-23T13:09:16.611107Z",
     "iopub.status.idle": "2024-04-23T13:09:16.617627Z",
     "shell.execute_reply": "2024-04-23T13:09:16.616532Z"
    },
    "papermill": {
     "duration": 0.888619,
     "end_time": "2024-04-23T13:09:16.619851",
     "exception": false,
     "start_time": "2024-04-23T13:09:15.731232",
     "status": "completed"
    },
    "tags": []
   },
   "outputs": [],
   "source": [
    "def classification(text):\n",
    "    text = preprocessing(text)\n",
    "    vector = vectorizer([text])\n",
    "    \n",
    "    pred = model.predict(vector)\n",
    "    \n",
    "    pred_classes = np.argmax(pred, axis=1)\n",
    "    \n",
    "    return pred_classes[0] + 1"
   ]
  },
  {
   "cell_type": "code",
   "execution_count": 25,
   "id": "edb30a75",
   "metadata": {
    "execution": {
     "iopub.execute_input": "2024-04-23T13:09:18.380923Z",
     "iopub.status.busy": "2024-04-23T13:09:18.380469Z",
     "iopub.status.idle": "2024-04-23T13:09:18.474718Z",
     "shell.execute_reply": "2024-04-23T13:09:18.473934Z"
    },
    "papermill": {
     "duration": 0.979986,
     "end_time": "2024-04-23T13:09:18.477042",
     "exception": false,
     "start_time": "2024-04-23T13:09:17.497056",
     "status": "completed"
    },
    "tags": []
   },
   "outputs": [
    {
     "name": "stdout",
     "output_type": "stream",
     "text": [
      "sách hay\n",
      "\u001b[1m1/1\u001b[0m \u001b[32m━━━━━━━━━━━━━━━━━━━━\u001b[0m\u001b[37m\u001b[0m \u001b[1m0s\u001b[0m 23ms/step\n"
     ]
    },
    {
     "data": {
      "text/plain": [
       "5"
      ]
     },
     "execution_count": 25,
     "metadata": {},
     "output_type": "execute_result"
    }
   ],
   "source": [
    "text = X_test[np.random.randint(len(X_test))]\n",
    "\n",
    "print(text)\n",
    "classification(text)"
   ]
  }
 ],
 "metadata": {
  "kaggle": {
   "accelerator": "none",
   "dataSources": [
    {
     "datasetId": 2722567,
     "sourceId": 4794901,
     "sourceType": "datasetVersion"
    }
   ],
   "dockerImageVersionId": 30698,
   "isGpuEnabled": false,
   "isInternetEnabled": true,
   "language": "python",
   "sourceType": "notebook"
  },
  "kernelspec": {
   "display_name": "Python 3",
   "language": "python",
   "name": "python3"
  },
  "language_info": {
   "codemirror_mode": {
    "name": "ipython",
    "version": 3
   },
   "file_extension": ".py",
   "mimetype": "text/x-python",
   "name": "python",
   "nbconvert_exporter": "python",
   "pygments_lexer": "ipython3",
   "version": "3.10.13"
  },
  "papermill": {
   "default_parameters": {},
   "duration": 845.923463,
   "end_time": "2024-04-23T13:09:22.238366",
   "environment_variables": {},
   "exception": null,
   "input_path": "__notebook__.ipynb",
   "output_path": "__notebook__.ipynb",
   "parameters": {},
   "start_time": "2024-04-23T12:55:16.314903",
   "version": "2.5.0"
  }
 },
 "nbformat": 4,
 "nbformat_minor": 5
}
